{
 "cells": [
  {
   "cell_type": "code",
   "execution_count": 38,
   "id": "33cd0b70-da0b-40bd-b4b2-f246d0ee5c4e",
   "metadata": {},
   "outputs": [],
   "source": [
    "import pandas as pd\n",
    "import re\n",
    "import string,time\n",
    "from textblob import TextBlob\n",
    "from nltk.corpus import stopwords\n",
    "import nltk\n",
    "import emoji\n"
   ]
  },
  {
   "cell_type": "code",
   "execution_count": 39,
   "id": "7befb741-c62f-4e61-9425-b5f5aca23ac6",
   "metadata": {},
   "outputs": [],
   "source": [
    "data_path = \"../Dataset/IMDB Dataset.csv\""
   ]
  },
  {
   "cell_type": "code",
   "execution_count": 40,
   "id": "1aedead4-24f4-4d38-9d89-04b8f7414073",
   "metadata": {},
   "outputs": [],
   "source": [
    "df = pd.read_csv(data_path)"
   ]
  },
  {
   "cell_type": "code",
   "execution_count": 41,
   "id": "4bbddd47-aa52-4735-bb52-6a6831acbf85",
   "metadata": {},
   "outputs": [
    {
     "data": {
      "text/plain": [
       "(50000, 2)"
      ]
     },
     "execution_count": 41,
     "metadata": {},
     "output_type": "execute_result"
    }
   ],
   "source": [
    "df.shape"
   ]
  },
  {
   "cell_type": "code",
   "execution_count": 42,
   "id": "4d93736f-8b5a-419b-8388-415152b25e69",
   "metadata": {},
   "outputs": [],
   "source": [
    "df = df[:1000]"
   ]
  },
  {
   "cell_type": "code",
   "execution_count": 43,
   "id": "b800e7d5-ec67-411a-ae47-5b33499d6271",
   "metadata": {},
   "outputs": [
    {
     "data": {
      "text/plain": [
       "Index(['review', 'sentiment'], dtype='object')"
      ]
     },
     "execution_count": 43,
     "metadata": {},
     "output_type": "execute_result"
    }
   ],
   "source": [
    "df.columns"
   ]
  },
  {
   "cell_type": "code",
   "execution_count": 44,
   "id": "1446a7c3-066f-43bf-8458-da83fb9e098a",
   "metadata": {},
   "outputs": [],
   "source": [
    "# Converting the data in lower case\n",
    "df['review'] = df['review'].str.lower()"
   ]
  },
  {
   "cell_type": "code",
   "execution_count": 45,
   "id": "ef17eb25-4cfc-46c9-8ecd-3d625e701d89",
   "metadata": {},
   "outputs": [],
   "source": [
    "def remove_html_tags(text):\n",
    "    \"\"\"\n",
    "    The function will return text after removing html tag from text.\n",
    "    \"\"\"\n",
    "    pattern = re.compile('<.*?>')\n",
    "    return pattern.sub(r'', text)\n",
    "\n",
    "def remove_url(text):\n",
    "    \"\"\"    \n",
    "    The function will return text after removing URL from text.\n",
    "    \"\"\"\n",
    "    pattern = re.compile(r'https?://\\S+|www\\.\\S+')\n",
    "    return pattern.sub(r'', text)\n",
    "\n",
    "def remove_punc(text):\n",
    "    \"\"\"    \n",
    "    The function will return text after removing punctuation from text.\n",
    "    \"\"\"\n",
    "    for char in exclude:\n",
    "        text = text.replace(char,'')\n",
    "    return text\n",
    "    \n",
    "def remove_punc1(text):\n",
    "    \"\"\"\n",
    "    The function will return text after removing punctuation from text.\n",
    "    \"\"\"\n",
    "\n",
    "    return text.translate(str.maketrans('', '', string.punctuation))\n",
    "\n",
    "def chat_conversion(text):\n",
    "    \"\"\"\n",
    "    The function will return text after adding chat word in text.\n",
    "    \"\"\"\n",
    "    new_text = []\n",
    "    for w in text.split():\n",
    "        if w.upper() in chat_words:\n",
    "            new_text.append(chat_words[w.upper()])\n",
    "        else:\n",
    "            new_text.append(w)\n",
    "    return \" \".join(new_text)\n",
    "\n",
    "def text_correction(text):\n",
    "    \"\"\"\n",
    "    The function will return text after correcting spellings in text.\n",
    "    \"\"\"    \n",
    "    textBlb = TextBlob(incorrect_text)\n",
    "    return textBlb.correct().string\n",
    "\n",
    "def remove_stopwords(text):\n",
    "    \"\"\"\n",
    "    The function will return text after removing stop words from text.\n",
    "    \"\"\"\n",
    "    new_text = []\n",
    "\n",
    "    for word in text.split():\n",
    "        if word in stopwords.words('english'):\n",
    "            new_text.append('')\n",
    "        else:\n",
    "            new_text.append(word)\n",
    "    x = new_text[:]\n",
    "    new_text.clear()\n",
    "    return \" \".join(x)\n",
    "\n",
    "def remove_emoji(text):\n",
    "    \"\"\"\n",
    "    The function will return text after removing emojis from text.\n",
    "    \"\"\"\n",
    "    emoji_pattern = re.compile(\"[\"\n",
    "                           u\"\\U0001F600-\\U0001F64F\"  # emoticons\n",
    "                           u\"\\U0001F300-\\U0001F5FF\"  # symbols & pictographs\n",
    "                           u\"\\U0001F680-\\U0001F6FF\"  # transport & map symbols\n",
    "                           u\"\\U0001F1E0-\\U0001F1FF\"  # flags (iOS)\n",
    "                           u\"\\U00002702-\\U000027B0\"\n",
    "                           u\"\\U000024C2-\\U0001F251\"\n",
    "                           \"]+\", flags=re.UNICODE)\n",
    "    return emoji_pattern.sub(r'', text)\n",
    "\n",
    "def remove_emoji_using_lib(text):\n",
    "    \"\"\"\n",
    "    The function will return text after removing emojis from text.\n",
    "    \"\"\"\n",
    "    return emoji.demojize(text)"
   ]
  },
  {
   "cell_type": "code",
   "execution_count": 46,
   "id": "00b391fa-380f-4a88-96d6-dbacfa24d286",
   "metadata": {},
   "outputs": [],
   "source": [
    "chat_words = {\n",
    "    'AFAIK':'As Far As I Know',\n",
    "    'AFK':'Away From Keyboard',\n",
    "    'ASAP':'As Soon As Possible',\n",
    "    \"FYI\": \"For Your Information\",\n",
    "    \"ASAP\": \"As Soon As Possible\",\n",
    "    \"BRB\": \"Be Right Back\",\n",
    "    \"BTW\": \"By The Way\",\n",
    "    \"OMG\": \"Oh My God\",\n",
    "    \"IMO\": \"In My Opinion\",\n",
    "    \"LOL\": \"Laugh Out Loud\",\n",
    "    \"TTYL\": \"Talk To You Later\",\n",
    "    \"GTG\": \"Got To Go\",\n",
    "    \"TTYT\": \"Talk To You Tomorrow\",\n",
    "    \"IDK\": \"I Don't Know\",\n",
    "    \"TMI\": \"Too Much Information\",\n",
    "    \"IMHO\": \"In My Humble Opinion\",\n",
    "    \"ICYMI\": \"In Case You Missed It\",\n",
    "    \"AFAIK\": \"As Far As I Know\",\n",
    "    \"BTW\": \"By The Way\",\n",
    "    \"FAQ\": \"Frequently Asked Questions\",\n",
    "    \"TGIF\": \"Thank God It's Friday\",\n",
    "    \"FYA\": \"For Your Action\",\n",
    "    \"ICYMI\": \"In Case You Missed It\",\n",
    "}"
   ]
  },
  {
   "cell_type": "code",
   "execution_count": 47,
   "id": "710d5522-1f43-45b1-b819-f0ea26c70075",
   "metadata": {},
   "outputs": [],
   "source": [
    "df['review'] = df['review'].apply(remove_html_tags)\n",
    "df['review'] = df['review'].apply(remove_url)\n",
    "df['review'] = df['review'].apply(remove_stopwords)\n",
    "df['review'] = df['review'].apply(remove_punc1)\n",
    "df['review'] = df['review'].apply(remove_emoji)"
   ]
  },
  {
   "cell_type": "code",
   "execution_count": 48,
   "id": "2e450962-09c6-4acc-a063-3b82beab9812",
   "metadata": {},
   "outputs": [
    {
     "data": {
      "text/plain": [
       "0      one    reviewers  mentioned   watching  1 oz e...\n",
       "1       wonderful little production  filming techniqu...\n",
       "2       thought    wonderful way  spend time    hot s...\n",
       "3      basically theres  family   little boy jake thi...\n",
       "4      petter matteis love   time  money   visually s...\n",
       "                             ...                        \n",
       "995    nothing  sacred  ask ernie fosselius  days eve...\n",
       "996     hated it  hate selfaware pretentious inanity ...\n",
       "997     usually try   professional  constructive   cr...\n",
       "998      like   going  see    film history class  som...\n",
       "999      like  zoology textbook given   depiction  an...\n",
       "Name: review, Length: 1000, dtype: object"
      ]
     },
     "execution_count": 48,
     "metadata": {},
     "output_type": "execute_result"
    }
   ],
   "source": [
    "df['review']"
   ]
  },
  {
   "cell_type": "code",
   "execution_count": null,
   "id": "433d2181-2a49-42ae-8624-43c02f0ac28b",
   "metadata": {},
   "outputs": [],
   "source": []
  }
 ],
 "metadata": {
  "kernelspec": {
   "display_name": "Python 3 (ipykernel)",
   "language": "python",
   "name": "python3"
  },
  "language_info": {
   "codemirror_mode": {
    "name": "ipython",
    "version": 3
   },
   "file_extension": ".py",
   "mimetype": "text/x-python",
   "name": "python",
   "nbconvert_exporter": "python",
   "pygments_lexer": "ipython3",
   "version": "3.11.9"
  }
 },
 "nbformat": 4,
 "nbformat_minor": 5
}
